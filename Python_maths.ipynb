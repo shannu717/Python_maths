{
 "cells": [
  {
   "cell_type": "markdown",
   "id": "85088db6",
   "metadata": {},
   "source": [
    "# Polar Coordinates"
   ]
  },
  {
   "cell_type": "code",
   "execution_count": 1,
   "id": "1294922e",
   "metadata": {},
   "outputs": [
    {
     "name": "stdout",
     "output_type": "stream",
     "text": [
      "1+2j\n",
      "2.23606797749979\n",
      "1.1071487177940904\n"
     ]
    }
   ],
   "source": [
    "import cmath\n",
    "\n",
    "c = complex(input())\n",
    "print(abs(c))\n",
    "print(cmath.phase(c))"
   ]
  },
  {
   "cell_type": "markdown",
   "id": "64cb7993",
   "metadata": {},
   "source": [
    "# Find Angle MBC"
   ]
  },
  {
   "cell_type": "code",
   "execution_count": 3,
   "id": "bc053090",
   "metadata": {},
   "outputs": [
    {
     "name": "stdout",
     "output_type": "stream",
     "text": [
      "10\n",
      "10\n",
      "45°\n"
     ]
    }
   ],
   "source": [
    "import math\n",
    "ab=int(input())\n",
    "bc=int(input())\n",
    "ca=math.hypot(ab,bc)\n",
    "mc=ca/2\n",
    "bca=math.asin(1*ab/ca)\n",
    "bm=math.sqrt((bc**2+mc**2)-(2*bc*mc*math.cos(bca)))\n",
    "mbc=math.asin(math.sin(bca)*mc/bm)\n",
    "print(int(round(math.degrees(mbc),0)),'\\u00B0',sep='')"
   ]
  },
  {
   "cell_type": "markdown",
   "id": "930b6221",
   "metadata": {},
   "source": [
    "# Triangle Quest 2"
   ]
  },
  {
   "cell_type": "code",
   "execution_count": 4,
   "id": "9239c6b4",
   "metadata": {},
   "outputs": [
    {
     "name": "stdout",
     "output_type": "stream",
     "text": [
      "5\n",
      "1\n",
      "121\n",
      "12321\n",
      "1234321\n",
      "123454321\n"
     ]
    }
   ],
   "source": [
    "for i in range(1, int(input())+1):\n",
    "    print(((10**i)//9)**2)"
   ]
  },
  {
   "cell_type": "markdown",
   "id": "36c18b8d",
   "metadata": {},
   "source": [
    "# Mod Divmod"
   ]
  },
  {
   "cell_type": "code",
   "execution_count": 6,
   "id": "857d57bb",
   "metadata": {},
   "outputs": [
    {
     "name": "stdout",
     "output_type": "stream",
     "text": [
      "177\n",
      "10\n",
      "17\n",
      "7\n",
      "(17, 7)\n"
     ]
    }
   ],
   "source": [
    "A = int(input())\n",
    "B = int(input())\n",
    "print(A//B)\n",
    "print(A%B)\n",
    "print(divmod(A, B))"
   ]
  },
  {
   "cell_type": "markdown",
   "id": "037aa2e2",
   "metadata": {},
   "source": [
    "# Power - Mod Power"
   ]
  },
  {
   "cell_type": "code",
   "execution_count": 9,
   "id": "f1dc432f",
   "metadata": {},
   "outputs": [
    {
     "name": "stdout",
     "output_type": "stream",
     "text": [
      "3\n",
      "4\n",
      "5\n",
      "c= 81\n",
      "d= 1\n"
     ]
    }
   ],
   "source": [
    "import math\n",
    "a = int(input())\n",
    "b = int(input())\n",
    "m = int(input())\n",
    "c = math.pow(a, b)\n",
    "d = c%m\n",
    "print(\"c=\",int(c))\n",
    "print(\"d=\",int(d))"
   ]
  },
  {
   "cell_type": "markdown",
   "id": "a940935d",
   "metadata": {},
   "source": [
    "# Integers Come In All Sizes"
   ]
  },
  {
   "cell_type": "code",
   "execution_count": 11,
   "id": "0bc6fe40",
   "metadata": {},
   "outputs": [
    {
     "name": "stdout",
     "output_type": "stream",
     "text": [
      "9\n",
      "29\n",
      "7\n",
      "27\n",
      "Z= 4710194409608608369201743232\n"
     ]
    }
   ],
   "source": [
    "a = int(input())\n",
    "b = int(input())\n",
    "c = int(input())\n",
    "d = int(input())\n",
    "print(\"Z=\",(a**b)+(c**d))"
   ]
  },
  {
   "cell_type": "markdown",
   "id": "40cc6214",
   "metadata": {},
   "source": [
    "# Triangle Quest"
   ]
  },
  {
   "cell_type": "code",
   "execution_count": 12,
   "id": "cac05c5a",
   "metadata": {},
   "outputs": [
    {
     "name": "stdout",
     "output_type": "stream",
     "text": [
      "5\n",
      "1\n",
      "22\n",
      "333\n",
      "4444\n"
     ]
    }
   ],
   "source": [
    "for i in range(1, int(input())):\n",
    "    print((10**(i)//9)*i)\n"
   ]
  }
 ],
 "metadata": {
  "kernelspec": {
   "display_name": "Python 3 (ipykernel)",
   "language": "python",
   "name": "python3"
  },
  "language_info": {
   "codemirror_mode": {
    "name": "ipython",
    "version": 3
   },
   "file_extension": ".py",
   "mimetype": "text/x-python",
   "name": "python",
   "nbconvert_exporter": "python",
   "pygments_lexer": "ipython3",
   "version": "3.9.13"
  },
  "varInspector": {
   "cols": {
    "lenName": 16,
    "lenType": 16,
    "lenVar": 40
   },
   "kernels_config": {
    "python": {
     "delete_cmd_postfix": "",
     "delete_cmd_prefix": "del ",
     "library": "var_list.py",
     "varRefreshCmd": "print(var_dic_list())"
    },
    "r": {
     "delete_cmd_postfix": ") ",
     "delete_cmd_prefix": "rm(",
     "library": "var_list.r",
     "varRefreshCmd": "cat(var_dic_list()) "
    }
   },
   "types_to_exclude": [
    "module",
    "function",
    "builtin_function_or_method",
    "instance",
    "_Feature"
   ],
   "window_display": false
  }
 },
 "nbformat": 4,
 "nbformat_minor": 5
}
